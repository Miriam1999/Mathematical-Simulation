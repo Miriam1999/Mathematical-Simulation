{
 "cells": [
  {
   "cell_type": "markdown",
   "metadata": {},
   "source": [
    "# Evaluación  (Módulo 2)\n",
    "> El tema principal en este módulo fueron simulaciones Montecarlo. Al finalizar este módulo, se espera que ustedes hayan desarrollado las siguientes competencias y habilidades:\n",
    "> - Evaluar integrales (o encontrar áreas) numéricamente mendiante métodos Montecarlo.\n",
    "> - Realizar evaluaciones de probabilidad precio-umbral."
   ]
  },
  {
   "cell_type": "markdown",
   "metadata": {},
   "source": [
    "## 1. Evaluación numérica de integrales utilizando Montecarlo [70 pts]\n",
    "\n",
    "- **[10 puntos]** En la clase de evaluación de integrales numéricas por montecarlo vimos dos tipos de evaluación de integrales, diga cuales son y mencione sus características."
   ]
  },
  {
   "cell_type": "markdown",
   "metadata": {
    "collapsed": true
   },
   "source": [
    "#### Considere 3 de las siguientes funciones:\n",
    "\n",
    "#### $f_1(x)=\\frac {1}{\\ln x}$\n",
    "#### $f_2(x)=e^{e^{x}}$\n",
    "#### $f_3(x)=e^{-{\\frac {x^{2}}{2}}}$\n",
    "#### $f_4(x)=\\sqrt{1+x^{4}}$\n",
    "#### $f_5(x)=\\ln(\\ln x)$\n",
    "\n",
    "- **[20 puntos]** Grafique las funciones. \n",
    "- **[20 puntos]** Utilizando los dos métodos, realice la evaluación numérica de las integrales de las funciones anteriores en el intervalo $(4,5)$. \n",
    "- **[10 puntos]** Poner los resultados en una tabla cuyas filas correspondan a la cantidad de términos utilizados en la aproximación (usar 10, 100, 1000, 10000 y 100000 términos) y cuyas columnas correspondan a las funciones. [Sugerencia: Hacer una tabla por cada método.]\n",
    "- **[10 puntos]** ¿Se pueden ver diferencias notables en la velocidad de convergencia de los métodos?"
   ]
  },
  {
   "cell_type": "markdown",
   "metadata": {},
   "source": [
    "## 2. Probabilidad Precio-Umbral [40 pts]\n",
    "En este ejercicio se evaluarán dos compañías con tendencias más o menos similares (Apple y Microsoft)\n",
    "- **[30 pts]** Determine cuál tiene más probabilidades de darnos un interés deseado.\n",
    "\n",
    "- **[10 pts]** Además, descargue los datos del año 2017 para verificar si el análisis concuerda."
   ]
  },
  {
   "cell_type": "markdown",
   "metadata": {},
   "source": [
    "<script>\n",
    "  $(document).ready(function(){\n",
    "    $('div.prompt').hide();\n",
    "    $('div.back-to-top').hide();\n",
    "    $('nav#menubar').hide();\n",
    "    $('.breadcrumb').hide();\n",
    "    $('.hidden-print').hide();\n",
    "  });\n",
    "</script>\n",
    "\n",
    "<footer id=\"attribution\" style=\"float:right; color:#808080; background:#fff;\">\n",
    "Created with Jupyter by Xiuhcoatl.\n",
    "</footer>"
   ]
  }
 ],
 "metadata": {
  "kernelspec": {
   "display_name": "Python 3",
   "language": "python",
   "name": "python3"
  },
  "language_info": {
   "codemirror_mode": {
    "name": "ipython",
    "version": 3
   },
   "file_extension": ".py",
   "mimetype": "text/x-python",
   "name": "python",
   "nbconvert_exporter": "python",
   "pygments_lexer": "ipython3",
   "version": "3.7.3"
  }
 },
 "nbformat": 4,
 "nbformat_minor": 2
}
